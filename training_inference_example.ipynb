{
  "nbformat": 4,
  "nbformat_minor": 0,
  "metadata": {
    "colab": {
      "provenance": [],
      "authorship_tag": "ABX9TyPbk+or2VRwSfIEzzh2fFdH",
      "include_colab_link": true
    },
    "kernelspec": {
      "name": "python3",
      "display_name": "Python 3"
    },
    "language_info": {
      "name": "python"
    }
  },
  "cells": [
    {
      "cell_type": "markdown",
      "metadata": {
        "id": "view-in-github",
        "colab_type": "text"
      },
      "source": [
        "<a href=\"https://colab.research.google.com/github/JayJaewonYoo/BrainTumorWSS_Superpixels/blob/main/training_inference_example.ipynb\" target=\"_parent\"><img src=\"https://colab.research.google.com/assets/colab-badge.svg\" alt=\"Open In Colab\"/></a>"
      ]
    },
    {
      "cell_type": "markdown",
      "source": [
        "# Deep Superpixel Generation and Clustering for Weakly Supervised Segmentation of Brain Tumors in MR Images\n",
        "This notebook serves to demonstrate how to train and run the weakly supervised segmentation models propposed in the paper [Deep Superpixel Generation and Clustering for Weakly Supervised Segmentation of Brain Tumors in MR Images](https://arxiv.org/abs/2209.09930)."
      ],
      "metadata": {
        "id": "bAkUa_9DG_yM"
      }
    },
    {
      "cell_type": "markdown",
      "source": [
        "## Importing libraries"
      ],
      "metadata": {
        "id": "ljWH0A0yHH2B"
      }
    },
    {
      "cell_type": "code",
      "source": [
        "!pip install --upgrade --quiet gdown # Required otherwise large files cannot be downloaded"
      ],
      "metadata": {
        "id": "oXcvoSqrUB2S"
      },
      "execution_count": 1,
      "outputs": []
    },
    {
      "cell_type": "code",
      "execution_count": 2,
      "metadata": {
        "id": "qZzlxggSF1x8"
      },
      "outputs": [],
      "source": [
        "# Importing libraries\n",
        "import numpy as np\n",
        "import cv2\n",
        "import torch\n",
        "import torch.nn as nn\n",
        "import torch.nn.functional as F\n",
        "import matplotlib.pyplot as plt\n",
        "from torch.utils.data import DataLoader, Dataset\n",
        "# from torchvision.utils import make_grid\n",
        "import torchvision.models as models\n",
        "import gdown"
      ]
    },
    {
      "cell_type": "markdown",
      "source": [
        "## Loading preprocessed example MR images from the [BraTS 2020 dataset](https://www.med.upenn.edu/cbica/brats2020/data.html),  corresponding seeds, and pretrained model weights."
      ],
      "metadata": {
        "id": "IdRfId0NNnTj"
      }
    },
    {
      "cell_type": "code",
      "source": [
        "gdown.download(f\"https://drive.google.com/uc?id=1kAwbIDnbe9C7H7MH5120OVrACcpxUslo&confirm=t\", \"mr_images.pt\")\n",
        "gdown.download(f\"https://drive.google.com/uc?id=1G6qUuzh4ZER_ATe73MFQe3OrOgsn-8Ou&confirm=t\", \"seeds.pt\")\n",
        "gdown.download(f\"https://drive.google.com/uc?id=1V8zuZi4_AxkJV585PuVaI-W5oeJfa6G-&confirm=t\", \"pretrained_model_weights.pt\")"
      ],
      "metadata": {
        "colab": {
          "base_uri": "https://localhost:8080/",
          "height": 244
        },
        "id": "kq--p0XsQ8Hb",
        "outputId": "93ed3fa7-5274-402b-9c7c-29d4f17015ac"
      },
      "execution_count": 3,
      "outputs": [
        {
          "output_type": "stream",
          "name": "stderr",
          "text": [
            "Downloading...\n",
            "From: https://drive.google.com/uc?id=1kAwbIDnbe9C7H7MH5120OVrACcpxUslo&confirm=t\n",
            "To: /content/mr_images.pt\n",
            "100%|██████████| 780M/780M [00:09<00:00, 79.8MB/s]\n",
            "Downloading...\n",
            "From: https://drive.google.com/uc?id=1G6qUuzh4ZER_ATe73MFQe3OrOgsn-8Ou&confirm=t\n",
            "To: /content/seeds.pt\n",
            "100%|██████████| 390M/390M [00:03<00:00, 122MB/s]\n",
            "Downloading...\n",
            "From: https://drive.google.com/uc?id=1V8zuZi4_AxkJV585PuVaI-W5oeJfa6G-&confirm=t\n",
            "To: /content/pretrained_model_weights.pt\n",
            "100%|██████████| 177M/177M [00:03<00:00, 49.1MB/s]\n"
          ]
        },
        {
          "output_type": "execute_result",
          "data": {
            "text/plain": [
              "'pretrained_model_weights.pt'"
            ],
            "application/vnd.google.colaboratory.intrinsic+json": {
              "type": "string"
            }
          },
          "metadata": {},
          "execution_count": 3
        }
      ]
    },
    {
      "cell_type": "markdown",
      "source": [
        "For demonstration purposes in this notebook only CPU is used. Use the commented code labeled GPU when running with a GPU available."
      ],
      "metadata": {
        "id": "Xxc3y4OCVGk5"
      }
    },
    {
      "cell_type": "code",
      "source": [
        "# mr_images = torch.load(\"mr_images.pt\") # GPU\n",
        "# seeds = torch.load(\"seeds.pt\") # GPU\n",
        "# pretrained_model_weights = torch.load(\"pretrained_model_weights.pt\") # GPU\n",
        "mr_images = torch.load(\"mr_images.pt\", map_location=torch.device('cpu'))\n",
        "seeds = torch.load(\"seeds.pt\", map_location=torch.device('cpu'))\n",
        "pretrained_model_weights = torch.load(\"pretrained_model_weights.pt\", map_location=torch.device('cpu'))"
      ],
      "metadata": {
        "id": "BmiAYqo4HCKm"
      },
      "execution_count": 5,
      "outputs": []
    },
    {
      "cell_type": "markdown",
      "source": [
        "## Defining data specifications"
      ],
      "metadata": {
        "id": "xlblmEBOVmCi"
      }
    },
    {
      "cell_type": "markdown",
      "source": [
        "Each image must be of shape (1, 4, H, W), where H and W are 128. This is a single image example but datasets with N images would have shape (N, 4, H, W).\n",
        "\n",
        "The 4 channels correspond to the following volumes in order:\n",
        "1.   T2 Fluid Attenuated Inversion Recovery (T2-FLAIR)\n",
        "2.   Native (T1)\n",
        "3.   Post-contrast T1-weighted (T1Gd)\n",
        "4.   T2-weighted (T2)\n",
        "\n",
        "Details on the preprocessing can be found in the [paper](https://arxiv.org/abs/2209.09930)."
      ],
      "metadata": {
        "id": "SHRmYRR_Vql6"
      }
    },
    {
      "cell_type": "markdown",
      "source": [
        "Demonstrating the shape of a single sample."
      ],
      "metadata": {
        "id": "R8hjLUIQWjeF"
      }
    },
    {
      "cell_type": "code",
      "source": [
        "print(\"Shape of a data sample:\", mr_images.shape)"
      ],
      "metadata": {
        "colab": {
          "base_uri": "https://localhost:8080/"
        },
        "id": "3zPuKdbaUs1p",
        "outputId": "0b8560d9-f963-45f1-8483-d03a7127a261"
      },
      "execution_count": 17,
      "outputs": [
        {
          "output_type": "stream",
          "name": "stdout",
          "text": [
            "Shape of a data sample: torch.Size([1, 4, 128, 128])\n"
          ]
        }
      ]
    },
    {
      "cell_type": "markdown",
      "source": [
        "Visualizing the preprocessed images."
      ],
      "metadata": {
        "id": "bRvKmdutWln0"
      }
    },
    {
      "cell_type": "code",
      "source": [
        "fig, axs = plt.subplots(1, 4)\n",
        "channel_names = [\"T2-FLAIR\", \"T1\", \"T1Gd\", \"T2\"]\n",
        "for channel_idx in range(4):\n",
        "  axs[channel_idx].imshow(mr_images[0, channel_idx], cmap='gray')\n",
        "  axs[channel_idx].set_title(channel_names[channel_idx])\n",
        "  axs[channel_idx].axis('off')\n",
        "plt.show()"
      ],
      "metadata": {
        "colab": {
          "base_uri": "https://localhost:8080/",
          "height": 167
        },
        "id": "2PvSPiZbVpXa",
        "outputId": "79af4a03-c1ca-40fa-adf1-28223fb28878"
      },
      "execution_count": 14,
      "outputs": [
        {
          "output_type": "display_data",
          "data": {
            "text/plain": [
              "<Figure size 640x480 with 4 Axes>"
            ],
            "image/png": "[encoded data removed]"
          },
          "metadata": {}
        }
      ]
    },
    {
      "cell_type": "markdown",
      "source": [
        "The seeds were generated using [Randomized Input Sampling for Explanation of Black-box Models](https://arxiv.org/abs/1806.07421) from a classifier trained on binary image-level labels indicating whether or not the input images are cancerous. More details can be found in the [paper](https://arxiv.org/abs/2209.09930).\n",
        "\n",
        "Each of the two channels are binary maps. The first channel corresponds to positive seeds (high likelihood of tumors). The second channel correspond to negative seeds (low likelihood of tumors)."
      ],
      "metadata": {
        "id": "GKAiAVWIYfRF"
      }
    },
    {
      "cell_type": "markdown",
      "source": [
        "Demonstrating the shape of the seeds for a single data sample."
      ],
      "metadata": {
        "id": "0X9eH6TpY89Y"
      }
    },
    {
      "cell_type": "code",
      "source": [
        "print(\"Shape of seeds for a data sample:\", seeds.shape)"
      ],
      "metadata": {
        "colab": {
          "base_uri": "https://localhost:8080/"
        },
        "id": "lXiSjKl3Y_7f",
        "outputId": "2f89f506-da55-493a-b0a1-465205353eff"
      },
      "execution_count": 18,
      "outputs": [
        {
          "output_type": "stream",
          "name": "stdout",
          "text": [
            "Shape of seeds for a data sample: torch.Size([1, 2, 128, 128])\n"
          ]
        }
      ]
    },
    {
      "cell_type": "markdown",
      "source": [
        "Visualizing the corresponding seeds (green: positive seeds, magenta: negative seeds, black: uncertain regions)."
      ],
      "metadata": {
        "id": "YjwMrUOmX7a0"
      }
    },
    {
      "cell_type": "code",
      "source": [
        "seed_visualization = torch.stack((seeds[0, 1], seeds[0, 0], seeds[0, 1]), dim=-1).type(torch.uint8) * 255\n",
        "plt. figure(figsize=(3, 3))\n",
        "plt.imshow(seed_visualization)\n",
        "plt.axis('off')\n",
        "plt.show()\n",
        "\n",
        "plt. figure(figsize=(3, 3))\n",
        "plt.imshow(mr_images[0, 0], cmap='gray')\n",
        "plt.imshow(seed_visualization, alpha=0.25)\n",
        "plt.axis('off')\n",
        "plt.show()"
      ],
      "metadata": {
        "colab": {
          "base_uri": "https://localhost:8080/",
          "height": 519
        },
        "id": "At5AlumHW7Gs",
        "outputId": "568d0026-e7d5-4ea2-f52b-2fe691b2ac8d"
      },
      "execution_count": 28,
      "outputs": [
        {
          "output_type": "display_data",
          "data": {
            "text/plain": [
              "<Figure size 300x300 with 1 Axes>"
            ],
            "image/png": "[encoded data removed]"
          },
          "metadata": {}
        },
        {
          "output_type": "display_data",
          "data": {
            "text/plain": [
              "<Figure size 300x300 with 1 Axes>"
            ],
            "image/png": "[encoded data removed]"
          },
          "metadata": {}
        }
      ]
    },
    {
      "cell_type": "markdown",
      "source": [
        "## Defining Superpixel Generation Model Architecture\n",
        "The architecture for the superpixel generation model is based on [AINet](https://arxiv.org/abs/2101.10696). Below is a custom implementation of the AINet architecture used for this work."
      ],
      "metadata": {
        "id": "81ES1L1JapJO"
      }
    },
    {
      "cell_type": "code",
      "source": [
        "def convolution(in_channels, out_channels, kernel_size=3, stride=1, padding=1, output_padding=1, bias=True, batchnorm=True, activation='leaky_relu', transpose=False, softmax_dim=1):\n",
        "    # Helper function to create convolution layer that maintains shape ith optional activation layer and batchnorm\n",
        "\n",
        "    # Use stride = 1, kernel = 3, padding = 1 for convenience\n",
        "    # Activation argument is one of 'relu', 'sigmoid', or 'none\n",
        "\n",
        "    layers = []\n",
        "    # Adding convolutional layer\n",
        "    if not transpose:\n",
        "        layers.append(nn.Conv2d(in_channels=in_channels, out_channels=out_channels, kernel_size=kernel_size, stride=stride, padding=padding, bias=bias and not batchnorm))\n",
        "    else:\n",
        "        layers.append(nn.ConvTranspose2d(in_channels=in_channels, out_channels=out_channels, kernel_size=kernel_size, stride=stride, padding=padding, output_padding=output_padding, bias=bias))\n",
        "\n",
        "    # Adding batchnorm\n",
        "    if batchnorm:\n",
        "        layers.append(nn.BatchNorm2d(out_channels))\n",
        "\n",
        "    # Adding activation\n",
        "    if activation == 'relu':\n",
        "        layers.append(nn.ReLU())\n",
        "    elif activation == 'sigmoid':\n",
        "        layers.append(nn.Sigmoid())\n",
        "    elif activation == 'softmax':\n",
        "        layers.append(nn.Softmax(dim=softmax_dim))\n",
        "    elif activation == 'leaky_relu':\n",
        "        layers.append(nn.LeakyReLU())\n",
        "    elif activation == 'none':\n",
        "        pass\n",
        "    else:\n",
        "        assert False, \"Invalid activation function.\"\n",
        "\n",
        "    return nn.Sequential(*layers)\n",
        "\n",
        "def check_power_2(val):\n",
        "    # Checks if input val is a power of 2\n",
        "\n",
        "    return (val & (val - 1) == 0) and val != 0\n",
        "\n",
        "class superpixel_generation_ainet(nn.Module):\n",
        "    # Custom implementation of AINet architecture\n",
        "\n",
        "    # Paper simply specifies an encoder-decoder style paradigm, the encoder module compresses the input\n",
        "    # image and outputs a feature map called superpixel embedding, whose pixels exactly encode the features of grid cells.\n",
        "    # The paper specifies the use of skip connections\n",
        "        # For now, a variation of UNet using parts of AINet and Superpixel Embedding Networks paper will be used as the autoencoder\n",
        "        # However, the autoencoder can be replaced with variations such as the asymmetric autoencoder\n",
        "    # Had to choose between using same shape convolutions with max pooling or strided convolutions for encoding\n",
        "        # Chose strided convolutions to try to better learn superpixel embeddings\n",
        "    # Had to choose upsampling and transposed convolution\n",
        "        # Chose transposed convolution to better learn how convert superpixel embeddings into pixel embeddings\n",
        "\n",
        "    # Superpixel embeddings are acquired from output of encoder and pixel embeddings are acquired from output of decoder\n",
        "\n",
        "    def __init__(self, S=16, in_channels=3, embed_channels=256, image_size=208):\n",
        "        # S is the sampling interval\n",
        "        # in_channels is the number of input channels, default 3 for RGB\n",
        "            # different from D in that D is the channels of the pixel embeddings\n",
        "        # superpixel_grid_size is the size of superpixel initial_seeds\n",
        "        # image_size is size of spatial dims, assuming H == W\n",
        "        # num_pixel features is the number of pixel features in the labels\n",
        "\n",
        "        super().__init__()\n",
        "\n",
        "        assert check_power_2(S), \"S must be a power of 2.\"\n",
        "\n",
        "        # Recommended to keep these this way because all calculations were done assuming these values\n",
        "        self.default_kernel_size = 3\n",
        "        default_padding = 1\n",
        "\n",
        "        num_encode_decode_layers = np.log2(S).astype(int)\n",
        "        self.D = embed_channels // (2 ** num_encode_decode_layers)\n",
        "        self.image_size = image_size\n",
        "        self.default_k = int(np.floor(self.default_kernel_size // 2))\n",
        "        self.default_k_plus1 = self.default_k + 1\n",
        "        self.grid_cell_size = S\n",
        "\n",
        "        assert self.image_size % self.grid_cell_size == 0, \"Image size must be divisable by S.\"\n",
        "\n",
        "        # Autoencoder\n",
        "        ########################################\n",
        "        self.encode_layers = []\n",
        "        self.encode_contract_layers = []\n",
        "        self.skip_connection_ops = []\n",
        "\n",
        "        # Encoding\n",
        "        for layer_idx in range(0, num_encode_decode_layers):\n",
        "            curr_channels = self.D * (2 ** layer_idx)\n",
        "            next_channels = self.D * (2 ** (layer_idx + 1))\n",
        "            self.encode_layers.append(\n",
        "                nn.Sequential(\n",
        "                    convolution(in_channels=in_channels if layer_idx == 0 else curr_channels,\n",
        "                                out_channels=curr_channels,\n",
        "                                kernel_size=self.default_kernel_size,\n",
        "                                activation='relu',\n",
        "                                batchnorm=True,\n",
        "                                stride=1,\n",
        "                                padding=default_padding),\n",
        "                    convolution(in_channels=curr_channels,\n",
        "                                out_channels=curr_channels,\n",
        "                                kernel_size=self.default_kernel_size,\n",
        "                                activation='relu',\n",
        "                                batchnorm=True,\n",
        "                                stride=1,\n",
        "                                padding=default_padding),\n",
        "                )\n",
        "            )\n",
        "            self.encode_contract_layers.append(\n",
        "                    convolution(in_channels=curr_channels, # This convolution downsamples and increases channels\n",
        "                                out_channels=next_channels,\n",
        "                                kernel_size=self.default_kernel_size,\n",
        "                                activation='relu',\n",
        "                                batchnorm=True,\n",
        "                                stride=2,\n",
        "                                padding=default_padding)\n",
        "            )\n",
        "            self.skip_connection_ops.append(\n",
        "                convolution(in_channels=curr_channels,\n",
        "                           out_channels=curr_channels,\n",
        "                            kernel_size=self.default_kernel_size,\n",
        "                            activation='relu',\n",
        "                            batchnorm=False,\n",
        "                            stride=1,\n",
        "                            padding=default_padding)\n",
        "            )\n",
        "\n",
        "        self.encode_layers = nn.ModuleList(self.encode_layers)\n",
        "        self.encode_contract_layers = nn.ModuleList(self.encode_contract_layers)\n",
        "        self.skip_connection_ops = nn.ModuleList(self.skip_connection_ops)\n",
        "\n",
        "        # Decoding\n",
        "        # Note that no batchnorm in the final decoding layer\n",
        "        self.decode_layers = []\n",
        "        for layer_idx in range(0, num_encode_decode_layers):\n",
        "            curr_channels = embed_channels // (2 ** layer_idx)\n",
        "            curr_channel_factor = 1 if layer_idx == 0 else 2\n",
        "            next_channels = embed_channels // (2 ** (layer_idx + 1))\n",
        "            self.decode_layers.append(\n",
        "                nn.Sequential(\n",
        "                    convolution(in_channels=curr_channels * curr_channel_factor,\n",
        "                                out_channels=curr_channels,\n",
        "                                kernel_size=self.default_kernel_size,\n",
        "                                activation='relu',\n",
        "                                batchnorm=True,\n",
        "                                stride=1,\n",
        "                                padding=default_padding),\n",
        "                    convolution(in_channels=curr_channels,\n",
        "                                out_channels=curr_channels,\n",
        "                                kernel_size=self.default_kernel_size,\n",
        "                                activation='relu',\n",
        "                                batchnorm=True,\n",
        "                                stride=1,\n",
        "                                padding=default_padding),\n",
        "                    convolution(in_channels=curr_channels, # This convolution downsamples and increases channels\n",
        "                                out_channels=next_channels,\n",
        "                                kernel_size=self.default_kernel_size,\n",
        "                                activation='relu',\n",
        "                                batchnorm=True,\n",
        "                                stride=2,\n",
        "                                padding=default_padding,\n",
        "                                output_padding=2 - self.default_kernel_size + (2 * default_padding),\n",
        "                                transpose=True)\n",
        "                )\n",
        "            )\n",
        "        self.decode_layers = nn.ModuleList(self.decode_layers)\n",
        "\n",
        "        # Final autoencoder layer\n",
        "        self.final_autoencoder_layer = convolution(in_channels=self.D * 2,\n",
        "                                out_channels=self.D,\n",
        "                                kernel_size=self.default_kernel_size,\n",
        "                                activation='relu',\n",
        "                                batchnorm=False,\n",
        "                                stride=1,\n",
        "                                padding=default_padding)\n",
        "        ########################################\n",
        "\n",
        "        # Superpixel Embeddings Processing\n",
        "        ########################################\n",
        "        self.superpixel_embed_process_layers = []\n",
        "\n",
        "        # Possibly replace this with a variable number of 2x upsample transpose convolutions because this can have\n",
        "            # stride > kernel size which can cause potential problems. Since transposed convolutions still have the same\n",
        "            # receptive field, it should be okay so long as it isn't one of the final output layers\n",
        "        channel_processing_scales = [[i, embed_channels // self.D // i] for i in range(1, int(np.sqrt(embed_channels // self.D)) + 1) if embed_channels // self.D % i == 0][-1]\n",
        "        shape_processing_scales = [[i, self.grid_cell_size // i] for i in range(1, int(np.sqrt(self.grid_cell_size)) + 1) if self.grid_cell_size % i == 0][-1]\n",
        "            # Finds factors of grid cell size so that it doesn't have to be a square\n",
        "        self.superpixel_embed_process_layers.append(\n",
        "            convolution(in_channels=embed_channels, # This convolution downsamples and decreases channels\n",
        "                    out_channels=embed_channels // channel_processing_scales[1],\n",
        "                    kernel_size=self.default_kernel_size,\n",
        "                    activation='relu',\n",
        "                    batchnorm=True,\n",
        "                    stride=shape_processing_scales[1],\n",
        "                    padding=default_padding,\n",
        "                    output_padding=shape_processing_scales[1] - self.default_kernel_size + (2 * default_padding),\n",
        "                    transpose=True)\n",
        "        )\n",
        "        self.superpixel_embed_process_layers.append(\n",
        "            convolution(in_channels=embed_channels // channel_processing_scales[1], # This convolution downsamples and decreases channels\n",
        "                    out_channels=embed_channels // (channel_processing_scales[1] * channel_processing_scales[0]),\n",
        "                    kernel_size = self.default_kernel_size,\n",
        "                    activation='relu',\n",
        "                    batchnorm=True,\n",
        "                    stride=shape_processing_scales[0],\n",
        "                    padding=default_padding,\n",
        "                    output_padding=shape_processing_scales[0] - self.default_kernel_size + (2 * default_padding),\n",
        "                    transpose=True)\n",
        "        )\n",
        "        self.superpixel_embed_process_layers = nn.ModuleList(self.superpixel_embed_process_layers)\n",
        "        ########################################\n",
        "\n",
        "        # Association Implantation Module\n",
        "        ########################################\n",
        "        pixel_embeds_kernel = torch.zeros(self.D, self.D, 3, 3)\n",
        "        for idx in range(self.D):\n",
        "            pixel_embeds_kernel[idx, idx, 1, 1] = 1\n",
        "\n",
        "        # To send to cuda when model.cuda() is called\n",
        "        self.register_buffer('pixel_embeds_kernel', pixel_embeds_kernel)\n",
        "        self.pixel_embeds_kernel = dict(self.named_buffers())['pixel_embeds_kernel']\n",
        "\n",
        "        # Using default_kernel_size as the stride here because paper states to distill superpixel embeddings for each pixel embedding individually\n",
        "        self.implantation_distilling_conv = convolution (in_channels=self.D,\n",
        "                                                         out_channels=self.D,\n",
        "                                                         kernel_size=self.default_kernel_size,\n",
        "                                                         activation='relu',\n",
        "                                                         batchnorm=True,\n",
        "                                                         stride=self.default_kernel_size,\n",
        "                                                         padding=default_padding)\n",
        "        ########################################\n",
        "\n",
        "        # Final layer\n",
        "        ########################################\n",
        "        self.final_layer = convolution(in_channels=self.D,\n",
        "                                out_channels=(self.image_size // self.grid_cell_size) ** 2,\n",
        "                                kernel_size=self.default_kernel_size,\n",
        "                                activation='softmax',\n",
        "                                batchnorm=False,\n",
        "                                stride=1,\n",
        "                                padding=default_padding)\n",
        "        ########################################\n",
        "\n",
        "    def forward(self, x):\n",
        "\n",
        "        # Autoencoder forward\n",
        "        ##############################\n",
        "        skip_connections = []\n",
        "        for encode_idx in range(len(self.encode_layers)):\n",
        "            x = self.encode_layers[encode_idx](x)\n",
        "            skip_connections.append(x)\n",
        "            x = self.encode_contract_layers[encode_idx](x)\n",
        "        superpixel_embeddings = x\n",
        "        for decode_idx, decode_layer in enumerate(self.decode_layers):\n",
        "            skip_connection_idx = -1 - decode_idx\n",
        "            x = torch.cat(\n",
        "                (\n",
        "                    decode_layer(x),\n",
        "                    self.skip_connection_ops[skip_connection_idx](skip_connections[skip_connection_idx])\n",
        "                ),\n",
        "                1\n",
        "            )\n",
        "        # At this point, the number of channels should be 2*D and the first layer after this should change the layers to D\n",
        "            # Note that D = 16 using default parameters\n",
        "        pixel_embeddings = self.final_autoencoder_layer(x)\n",
        "        ##############################\n",
        "\n",
        "        # Superpixel embeddings processing\n",
        "        ##############################\n",
        "        original_superpixel_embeddings = superpixel_embeddings # Used for calculating ROI probabilities later\n",
        "        for idx in range(2):\n",
        "            superpixel_embeddings = self.superpixel_embed_process_layers[idx](superpixel_embeddings)\n",
        "        ##############################\n",
        "\n",
        "        # Association implantation module\n",
        "        ############################### Calculating expanded superpixel embeddings\n",
        "        superpixel_embeddings_pad = F.pad(superpixel_embeddings, (1, 1, 1, 1))\n",
        "\n",
        "        pixel_embeddings_expanded = F.conv_transpose2d(pixel_embeddings, self.pixel_embeds_kernel, stride=self.default_kernel_size)\n",
        "\n",
        "        # This line splits the padded superpixel embeddings into the patches that correspond to the expanded pixel embeddings\n",
        "        superpixel_embeddings_patches = superpixel_embeddings_pad.unfold(2, self.default_kernel_size, 1).unfold(3, self.default_kernel_size, 1)\n",
        "\n",
        "        # This code block rearranges the patches such that it matches the organization of the expanded pixel embeddings\n",
        "        batch_size = superpixel_embeddings_patches.shape[0]\n",
        "\n",
        "        superpixel_embeddings_patches = superpixel_embeddings_patches.contiguous().view(batch_size, self.D, -1, self.default_kernel_size ** 2)\n",
        "        superpixel_embeddings_patches = superpixel_embeddings_patches.permute(0, 1, 3, 2)\n",
        "        superpixel_embeddings_patches = superpixel_embeddings_patches.contiguous().view(batch_size, self.D * self.default_kernel_size ** 2, -1)\n",
        "        superpixel_embeddings_expanded = F.fold(superpixel_embeddings_patches, output_size=pixel_embeddings_expanded.shape[2:], kernel_size=self.default_kernel_size, stride=self.default_kernel_size)\n",
        "\n",
        "        pixel_superpixel_context = superpixel_embeddings_expanded + pixel_embeddings_expanded\n",
        "\n",
        "        new_pixel_embeddings = self.implantation_distilling_conv(pixel_superpixel_context)\n",
        "        ##############################\n",
        "\n",
        "        # Getting association map\n",
        "        ########################################\n",
        "        association_map = self.final_layer(new_pixel_embeddings)\n",
        "        ##############################\n",
        "\n",
        "        return association_map"
      ],
      "metadata": {
        "id": "1zCv-MUXZECn"
      },
      "execution_count": 29,
      "outputs": []
    },
    {
      "cell_type": "markdown",
      "source": [
        "## Defining loss functions"
      ],
      "metadata": {
        "id": "ZtL99AOtbu89"
      }
    },
    {
      "cell_type": "code",
      "source": [
        "# # Loss\n",
        "# shift9pos, init_spixel_grid, and global_compute_semantic_pos_loss adapted from https://github.com/fuy34/superpixel_fcn\n",
        "\n",
        "def shift9pos(input, h_shift_unit=1,  w_shift_unit=1):\n",
        "    # input should be padding as (c, 1+ height+1, 1+width+1)\n",
        "    input_pd = np.pad(input, ((h_shift_unit, h_shift_unit), (w_shift_unit, w_shift_unit)), mode='edge')\n",
        "    input_pd = np.expand_dims(input_pd, axis=0)\n",
        "\n",
        "    # assign to ...\n",
        "    top     = input_pd[:, :-2 * h_shift_unit,          w_shift_unit:-w_shift_unit]\n",
        "    bottom  = input_pd[:, 2 * h_shift_unit:,           w_shift_unit:-w_shift_unit]\n",
        "    left    = input_pd[:, h_shift_unit:-h_shift_unit,  :-2 * w_shift_unit]\n",
        "    right   = input_pd[:, h_shift_unit:-h_shift_unit,  2 * w_shift_unit:]\n",
        "\n",
        "    center = input_pd[:,h_shift_unit:-h_shift_unit,w_shift_unit:-w_shift_unit]\n",
        "\n",
        "    bottom_right    = input_pd[:, 2 * h_shift_unit:,   2 * w_shift_unit:]\n",
        "    bottom_left     = input_pd[:, 2 * h_shift_unit:,   :-2 * w_shift_unit]\n",
        "    top_right       = input_pd[:, :-2 * h_shift_unit,  2 * w_shift_unit:]\n",
        "    top_left        = input_pd[:, :-2 * h_shift_unit,  :-2 * w_shift_unit]\n",
        "\n",
        "    shift_tensor = np.concatenate([     top_left,    top,      top_right,\n",
        "                                        left,        center,      right,\n",
        "                                        bottom_left, bottom,    bottom_right], axis=0)\n",
        "    return shift_tensor\n",
        "\n",
        "def init_spixel_grid(batch_size, image_size, grid_cell_size):\n",
        "    img_height, img_width = image_size, image_size\n",
        "\n",
        "    # get spixel id for the final assignment\n",
        "    n_spixl_h = int(np.floor(img_height / grid_cell_size))\n",
        "    n_spixl_w = int(np.floor(img_width / grid_cell_size))\n",
        "\n",
        "    spixel_height = int(img_height / (1. * n_spixl_h))\n",
        "    spixel_width = int(img_width / (1. * n_spixl_w))\n",
        "\n",
        "    spix_values = np.int32(np.arange(0, n_spixl_w * n_spixl_h).reshape((n_spixl_h, n_spixl_w)))\n",
        "    spix_idx_tensor_ = shift9pos(spix_values)\n",
        "\n",
        "    spix_idx_tensor =  np.repeat(\n",
        "        np.repeat(spix_idx_tensor_, spixel_height,axis=1), spixel_width, axis=2)\n",
        "\n",
        "    torch_spix_idx_tensor = torch.from_numpy(\n",
        "                np.tile(spix_idx_tensor, (batch_size, 1, 1, 1))).type(torch.float)#.cuda()\n",
        "\n",
        "\n",
        "    curr_img_height = int(np.floor(img_height))\n",
        "    curr_img_width = int(np.floor(img_width))\n",
        "\n",
        "    # pixel coord\n",
        "    all_h_coords = np.arange(0, curr_img_height, 1)\n",
        "    all_w_coords = np.arange(0, curr_img_width, 1)\n",
        "    curr_pxl_coord = np.array(np.meshgrid(all_h_coords, all_w_coords, indexing='ij'))\n",
        "\n",
        "    coord_tensor = np.concatenate([curr_pxl_coord[1:2, :, :], curr_pxl_coord[:1, :, :]])\n",
        "\n",
        "    all_XY_feat = (torch.from_numpy(\n",
        "        np.tile(coord_tensor, (batch_size, 1, 1, 1)).astype(np.float32)))#.cuda())\n",
        "\n",
        "    return  torch_spix_idx_tensor, all_XY_feat\n",
        "\n",
        "def global_compute_semantic_pos_loss(prob_in, labxy_feat, pos_weight = 0.3,  kernel_size=16, use_cuda=True):\n",
        "    # pos weight originally 0.003\n",
        "\n",
        "    # this wrt the slic paper who used sqrt of (mse)\n",
        "\n",
        "    # rgbxy1_feat: B*4+2*H*W\n",
        "    # output : B*9*H*w\n",
        "    # NOTE: this loss is only designed for one level structure\n",
        "    S = kernel_size\n",
        "    m = pos_weight\n",
        "    prob = prob_in.clone()\n",
        "\n",
        "    b, c, h, w = labxy_feat.shape\n",
        "\n",
        "    pooled_numerator = prob.unsqueeze(2) * labxy_feat.unsqueeze(1)\n",
        "    pooled_numerator = pooled_numerator.sum(dim=(-1, -2))\n",
        "    pooled_denominator = prob.sum(dim=(-1, -2)).unsqueeze(-1)\n",
        "    pooled_labxy = pooled_numerator / pooled_denominator\n",
        "    reconstr_feat = (prob.unsqueeze(2) * pooled_labxy.unsqueeze(-1).unsqueeze(-1)).sum(dim=1)\n",
        "\n",
        "    loss_map = reconstr_feat[:,-2:,:,:] - labxy_feat[:,-2:,:,:]\n",
        "    loss_col_map = reconstr_feat[:,:-2:,:,:] - labxy_feat[:,:-2,:,:]\n",
        "\n",
        "    # self def cross entropy  -- the official one combined softmax\n",
        "    loss_pos = (torch.linalg.norm(loss_map, dim=1).sum() / b) * (m / S)\n",
        "    loss_col = torch.linalg.norm(loss_col_map, dim=1).sum() / b\n",
        "\n",
        "    # from the original authors: empirically we find timing 0.005 tend to better performance\n",
        "    loss_pos_sum = 0.005 * loss_pos\n",
        "    loss_col_sum = 0.005 * loss_col\n",
        "\n",
        "    loss_sum = loss_pos_sum + loss_col_sum\n",
        "\n",
        "    return loss_sum, loss_pos_sum, loss_col_sum\n",
        "\n",
        "# Variant of SEC (seed, expand, constrain) (https://github.com/akolesnikoff/SEC)\n",
        "class SeedLoss(nn.Module):\n",
        "    def __init__(self, weight=None, size_average=True):\n",
        "        super(SeedLoss, self).__init__()\n",
        "\n",
        "    def forward(self, segmentation, seed_labels, smooth=1):\n",
        "\n",
        "        # Goal here is to match the seed labels, so the -1 multiplication is required\n",
        "        log_mask = torch.clamp(torch.log(segmentation), min=-100) * seed_labels\n",
        "        numerator = torch.sum(log_mask, dim=(-1, -2, -3))\n",
        "        denominator = torch.sum(seed_labels, dim=(-1, -2, -3))\n",
        "        seed_loss_batches = -1 * ((numerator + smooth) / (denominator + smooth))\n",
        "        seed_loss = seed_loss_batches.mean()\n",
        "\n",
        "        return seed_loss"
      ],
      "metadata": {
        "id": "hmo-5jhcbx8t"
      },
      "execution_count": 34,
      "outputs": []
    },
    {
      "cell_type": "markdown",
      "source": [
        "## Training Example"
      ],
      "metadata": {
        "id": "hDlaQ_XncGHc"
      }
    },
    {
      "cell_type": "markdown",
      "source": [
        "Initiailizing the models for training."
      ],
      "metadata": {
        "id": "J1ZbxRUqbmRc"
      }
    },
    {
      "cell_type": "code",
      "source": [
        "superpixel_generation_model = superpixel_generation_ainet(in_channels=4, image_size=128, S=16) # Change image_size accordingly\n",
        "\n",
        "superpixel_scoring_model = models.resnet18()\n",
        "superpixel_scoring_model.conv1 = nn.Conv2d(4 + 64, 64, kernel_size=(7, 7), stride=(2, 2),padding=(3, 3), bias=False)\n",
        "superpixel_scoring_model.fc = nn.Linear(512, 64)"
      ],
      "metadata": {
        "id": "s-jZBahBa6VY"
      },
      "execution_count": 31,
      "outputs": []
    },
    {
      "cell_type": "markdown",
      "source": [
        "Initialize loss functions."
      ],
      "metadata": {
        "id": "abUTnL-9brkw"
      }
    },
    {
      "cell_type": "code",
      "source": [
        "spixelID, XY_feat_stack = init_spixel_grid(batch_size=1, image_size=128, grid_cell_size=16) # Batch size set to 1 for demonstration purposes\n",
        "seed_loss_func = SeedLoss()\n",
        "scores_softmax = nn.Softmax(dim=1)"
      ],
      "metadata": {
        "id": "HB1RPrjyboni"
      },
      "execution_count": 38,
      "outputs": []
    },
    {
      "cell_type": "markdown",
      "source": [
        "Preparing training hyperparameters, dataset, optimizer, and scheduler."
      ],
      "metadata": {
        "id": "datkyNLMcpVb"
      }
    },
    {
      "cell_type": "code",
      "source": [
        "# Training hyperparameters\n",
        "num_epochs = 1 # For demonstration purposes\n",
        "initial_learning_rate = 0.0005\n",
        "batch_size = 1 # For demonstration purposes\n",
        "use_cuda = False # For demonstration purposes\n",
        "seed_loss_weight = 50"
      ],
      "metadata": {
        "id": "rkSrUpaedDoG"
      },
      "execution_count": 44,
      "outputs": []
    },
    {
      "cell_type": "code",
      "source": [
        "# Dataset\n",
        "class BraTS_weaklysupervisedsuperpixelsegmentation_dataset(Dataset):\n",
        "    def __init__(self, input_data, input_seeds):\n",
        "        super().__init__()\n",
        "        # data is (N, 4, H, W)\n",
        "        # labels is (N, H, W)\n",
        "\n",
        "        self.num_data = len(input_data)\n",
        "        self.data = input_data\n",
        "        self.seeds = input_seeds\n",
        "\n",
        "    def __len__(self):\n",
        "        return self.num_data\n",
        "\n",
        "    def __getitem__(self, idx):\n",
        "        return self.data[idx], self.seeds[idx]\n",
        "\n",
        "BraTS_train_dataset = BraTS_weaklysupervisedsuperpixelsegmentation_dataset(mr_images, seeds)\n",
        "BraTS_train_dataloader = DataLoader(BraTS_train_dataset, batch_size=batch_size, pin_memory=False, num_workers=0, drop_last=True, shuffle=True)"
      ],
      "metadata": {
        "id": "GiiJ4CRMdDHi"
      },
      "execution_count": 45,
      "outputs": []
    },
    {
      "cell_type": "code",
      "source": [
        "optimizer = torch.optim.Adam(lr=initial_learning_rate, params=list(superpixel_generation_model.parameters()) + list(superpixel_scoring_model.parameters()), weight_decay=0.1)\n",
        "scheduler = torch.optim.lr_scheduler.StepLR(optimizer, step_size=num_epochs // 4, gamma=0.5)"
      ],
      "metadata": {
        "id": "JcrAJjUncUsn"
      },
      "execution_count": 46,
      "outputs": []
    },
    {
      "cell_type": "code",
      "source": [
        "for epoch in range(0, num_epochs):\n",
        "    for batch, (data, ground_truths) in enumerate(BraTS_train_dataloader):\n",
        "        labels = torch.cat([data, XY_feat_stack[:data.shape[0]]], dim=1)\n",
        "        if use_cuda:\n",
        "            data = data.cuda()\n",
        "            labels = labels.cuda()\n",
        "            ground_truths = ground_truths.cuda()\n",
        "\n",
        "        association_map = superpixel_generation_model(data)\n",
        "\n",
        "        superpixel_scoring_input = torch.cat((data, association_map), dim=1)\n",
        "        superpixel_scores_logits = superpixel_scoring_model(superpixel_scoring_input)\n",
        "        superpixel_scores = scores_softmax(superpixel_scores_logits)\n",
        "\n",
        "        loss_total, loss_pos_sum, loss_col_sum = global_compute_semantic_pos_loss(association_map, labels, kernel_size=16, use_cuda=use_cuda) # 16 here is the grid cell size, which we set to 16 throughout this notebook and our experiments\n",
        "\n",
        "        mask = association_map * superpixel_scores.view(superpixel_scores.shape[0], superpixel_scores.shape[1], 1, 1)\n",
        "        mask = mask.sum(dim=1)\n",
        "        mask = mask.view(mask.shape[0], 1, mask.shape[1], mask.shape[2])\n",
        "        mask = torch.cat((mask, 1 - mask), dim=1)\n",
        "\n",
        "        seed_loss = seed_loss_func(mask, ground_truths) * seed_loss_weight\n",
        "\n",
        "        loss_total = loss_total + seed_loss\n",
        "\n",
        "        optimizer.zero_grad(set_to_none=True)\n",
        "        loss_total.backward()\n",
        "        optimizer.step()"
      ],
      "metadata": {
        "id": "jnqKcuc5dvEO"
      },
      "execution_count": 48,
      "outputs": []
    },
    {
      "cell_type": "markdown",
      "source": [
        "## Inference example"
      ],
      "metadata": {
        "id": "gJ_fBsIFegLl"
      }
    },
    {
      "cell_type": "markdown",
      "source": [
        "Loading model with pretrained weights for inference."
      ],
      "metadata": {
        "id": "dyxeQ8qLeuCz"
      }
    },
    {
      "cell_type": "code",
      "source": [
        "superpixel_generation_model = superpixel_generation_ainet(in_channels=4, image_size=128, S=16) # Change image_size accordingly\n",
        "# superpixel_generation_model.load_state_dict(torch.load(\"pretrained_model_weights.pt\")[\"model_state_dict\"]) # GPU\n",
        "superpixel_generation_model.load_state_dict(torch.load(\"pretrained_model_weights.pt\", map_location=torch.device('cpu'))[\"model_state_dict\"])\n",
        "superpixel_generation_model.eval()\n",
        "\n",
        "superpixel_scoring_model = models.resnet18()\n",
        "superpixel_scoring_model.conv1 = nn.Conv2d(4 + 64, 64, kernel_size=(7, 7), stride=(2, 2),padding=(3, 3), bias=False)\n",
        "superpixel_scoring_model.fc = nn.Linear(512, 64)\n",
        "# superpixel_scoring_model.load_state_dict(torch.load(\"pretrained_model_weights.pt\")[\"scoring_model_state_dict\"]) # GPU\n",
        "superpixel_scoring_model.load_state_dict(torch.load(\"pretrained_model_weights.pt\", map_location=torch.device('cpu'))[\"scoring_model_state_dict\"])\n",
        "superpixel_scoring_model.eval()"
      ],
      "metadata": {
        "colab": {
          "base_uri": "https://localhost:8080/"
        },
        "id": "SkPE9H4Yeh2B",
        "outputId": "e52a9dc7-c02b-4eaf-98f4-18c78a7fe0f7"
      },
      "execution_count": 50,
      "outputs": [
        {
          "output_type": "execute_result",
          "data": {
            "text/plain": [
              "ResNet(\n",
              "  (conv1): Conv2d(68, 64, kernel_size=(7, 7), stride=(2, 2), padding=(3, 3), bias=False)\n",
              "  (bn1): BatchNorm2d(64, eps=1e-05, momentum=0.1, affine=True, track_running_stats=True)\n",
              "  (relu): ReLU(inplace=True)\n",
              "  (maxpool): MaxPool2d(kernel_size=3, stride=2, padding=1, dilation=1, ceil_mode=False)\n",
              "  (layer1): Sequential(\n",
              "    (0): BasicBlock(\n",
              "      (conv1): Conv2d(64, 64, kernel_size=(3, 3), stride=(1, 1), padding=(1, 1), bias=False)\n",
              "      (bn1): BatchNorm2d(64, eps=1e-05, momentum=0.1, affine=True, track_running_stats=True)\n",
              "      (relu): ReLU(inplace=True)\n",
              "      (conv2): Conv2d(64, 64, kernel_size=(3, 3), stride=(1, 1), padding=(1, 1), bias=False)\n",
              "      (bn2): BatchNorm2d(64, eps=1e-05, momentum=0.1, affine=True, track_running_stats=True)\n",
              "    )\n",
              "    (1): BasicBlock(\n",
              "      (conv1): Conv2d(64, 64, kernel_size=(3, 3), stride=(1, 1), padding=(1, 1), bias=False)\n",
              "      (bn1): BatchNorm2d(64, eps=1e-05, momentum=0.1, affine=True, track_running_stats=True)\n",
              "      (relu): ReLU(inplace=True)\n",
              "      (conv2): Conv2d(64, 64, kernel_size=(3, 3), stride=(1, 1), padding=(1, 1), bias=False)\n",
              "      (bn2): BatchNorm2d(64, eps=1e-05, momentum=0.1, affine=True, track_running_stats=True)\n",
              "    )\n",
              "  )\n",
              "  (layer2): Sequential(\n",
              "    (0): BasicBlock(\n",
              "      (conv1): Conv2d(64, 128, kernel_size=(3, 3), stride=(2, 2), padding=(1, 1), bias=False)\n",
              "      (bn1): BatchNorm2d(128, eps=1e-05, momentum=0.1, affine=True, track_running_stats=True)\n",
              "      (relu): ReLU(inplace=True)\n",
              "      (conv2): Conv2d(128, 128, kernel_size=(3, 3), stride=(1, 1), padding=(1, 1), bias=False)\n",
              "      (bn2): BatchNorm2d(128, eps=1e-05, momentum=0.1, affine=True, track_running_stats=True)\n",
              "      (downsample): Sequential(\n",
              "        (0): Conv2d(64, 128, kernel_size=(1, 1), stride=(2, 2), bias=False)\n",
              "        (1): BatchNorm2d(128, eps=1e-05, momentum=0.1, affine=True, track_running_stats=True)\n",
              "      )\n",
              "    )\n",
              "    (1): BasicBlock(\n",
              "      (conv1): Conv2d(128, 128, kernel_size=(3, 3), stride=(1, 1), padding=(1, 1), bias=False)\n",
              "      (bn1): BatchNorm2d(128, eps=1e-05, momentum=0.1, affine=True, track_running_stats=True)\n",
              "      (relu): ReLU(inplace=True)\n",
              "      (conv2): Conv2d(128, 128, kernel_size=(3, 3), stride=(1, 1), padding=(1, 1), bias=False)\n",
              "      (bn2): BatchNorm2d(128, eps=1e-05, momentum=0.1, affine=True, track_running_stats=True)\n",
              "    )\n",
              "  )\n",
              "  (layer3): Sequential(\n",
              "    (0): BasicBlock(\n",
              "      (conv1): Conv2d(128, 256, kernel_size=(3, 3), stride=(2, 2), padding=(1, 1), bias=False)\n",
              "      (bn1): BatchNorm2d(256, eps=1e-05, momentum=0.1, affine=True, track_running_stats=True)\n",
              "      (relu): ReLU(inplace=True)\n",
              "      (conv2): Conv2d(256, 256, kernel_size=(3, 3), stride=(1, 1), padding=(1, 1), bias=False)\n",
              "      (bn2): BatchNorm2d(256, eps=1e-05, momentum=0.1, affine=True, track_running_stats=True)\n",
              "      (downsample): Sequential(\n",
              "        (0): Conv2d(128, 256, kernel_size=(1, 1), stride=(2, 2), bias=False)\n",
              "        (1): BatchNorm2d(256, eps=1e-05, momentum=0.1, affine=True, track_running_stats=True)\n",
              "      )\n",
              "    )\n",
              "    (1): BasicBlock(\n",
              "      (conv1): Conv2d(256, 256, kernel_size=(3, 3), stride=(1, 1), padding=(1, 1), bias=False)\n",
              "      (bn1): BatchNorm2d(256, eps=1e-05, momentum=0.1, affine=True, track_running_stats=True)\n",
              "      (relu): ReLU(inplace=True)\n",
              "      (conv2): Conv2d(256, 256, kernel_size=(3, 3), stride=(1, 1), padding=(1, 1), bias=False)\n",
              "      (bn2): BatchNorm2d(256, eps=1e-05, momentum=0.1, affine=True, track_running_stats=True)\n",
              "    )\n",
              "  )\n",
              "  (layer4): Sequential(\n",
              "    (0): BasicBlock(\n",
              "      (conv1): Conv2d(256, 512, kernel_size=(3, 3), stride=(2, 2), padding=(1, 1), bias=False)\n",
              "      (bn1): BatchNorm2d(512, eps=1e-05, momentum=0.1, affine=True, track_running_stats=True)\n",
              "      (relu): ReLU(inplace=True)\n",
              "      (conv2): Conv2d(512, 512, kernel_size=(3, 3), stride=(1, 1), padding=(1, 1), bias=False)\n",
              "      (bn2): BatchNorm2d(512, eps=1e-05, momentum=0.1, affine=True, track_running_stats=True)\n",
              "      (downsample): Sequential(\n",
              "        (0): Conv2d(256, 512, kernel_size=(1, 1), stride=(2, 2), bias=False)\n",
              "        (1): BatchNorm2d(512, eps=1e-05, momentum=0.1, affine=True, track_running_stats=True)\n",
              "      )\n",
              "    )\n",
              "    (1): BasicBlock(\n",
              "      (conv1): Conv2d(512, 512, kernel_size=(3, 3), stride=(1, 1), padding=(1, 1), bias=False)\n",
              "      (bn1): BatchNorm2d(512, eps=1e-05, momentum=0.1, affine=True, track_running_stats=True)\n",
              "      (relu): ReLU(inplace=True)\n",
              "      (conv2): Conv2d(512, 512, kernel_size=(3, 3), stride=(1, 1), padding=(1, 1), bias=False)\n",
              "      (bn2): BatchNorm2d(512, eps=1e-05, momentum=0.1, affine=True, track_running_stats=True)\n",
              "    )\n",
              "  )\n",
              "  (avgpool): AdaptiveAvgPool2d(output_size=(1, 1))\n",
              "  (fc): Linear(in_features=512, out_features=64, bias=True)\n",
              ")"
            ]
          },
          "metadata": {},
          "execution_count": 50
        }
      ]
    },
    {
      "cell_type": "markdown",
      "source": [
        "## Predicting segmentation using weakly supervised segmentation models"
      ],
      "metadata": {
        "id": "YkdsqBv0fRjT"
      }
    },
    {
      "cell_type": "code",
      "source": [
        "threshold = 0.6 # Decision threshold\n",
        "association_map = superpixel_generation_model(mr_images)\n",
        "superpixel_scoring_input = torch.cat((mr_images, association_map), dim=1)\n",
        "superpixel_scores = superpixel_scoring_model(superpixel_scoring_input)\n",
        "mask = association_map * superpixel_scores.view(superpixel_scores.shape[0], superpixel_scores.shape[1], 1, 1)\n",
        "mask = mask.sum(dim=1)\n",
        "mask = nn.Sigmoid()(mask.detach().cpu())\n",
        "mask = mask.numpy()\n",
        "mask = cv2.GaussianBlur(mask,(7,7),cv2.BORDER_DEFAULT)\n",
        "mask = torch.from_numpy(mask)\n",
        "mask[mask > threshold] = 1\n",
        "mask[mask <= threshold] = 0"
      ],
      "metadata": {
        "id": "wIOVPwnefAhX"
      },
      "execution_count": 52,
      "outputs": []
    },
    {
      "cell_type": "code",
      "source": [
        "predicted_segmentation = mask[0]\n",
        "fig, axs = plt.subplots(1, 2)\n",
        "subplot_names = [\"Input T2-FLAIR\", \"Predicted Segmentation\"]\n",
        "axs[0].imshow(mr_images[0, 0], cmap='gray')\n",
        "axs[0].set_title(\"Input T2-FLAIR\")\n",
        "axs[0].axis('off')\n",
        "axs[1].imshow(predicted_segmentation, cmap='gray')\n",
        "axs[1].set_title(\"Predicted Segmentation\")\n",
        "axs[1].axis('off')\n",
        "plt.show()"
      ],
      "metadata": {
        "colab": {
          "base_uri": "https://localhost:8080/",
          "height": 284
        },
        "id": "aMyGYxb5f5LQ",
        "outputId": "d46a70d3-ee9f-4ce8-c19a-5c6b19c63794"
      },
      "execution_count": 56,
      "outputs": [
        {
          "output_type": "display_data",
          "data": {
            "text/plain": [
              "<Figure size 640x480 with 2 Axes>"
            ],
            "image/png": "[encoded data removed]"
          },
          "metadata": {}
        }
      ]
    },
    {
      "cell_type": "code",
      "source": [],
      "metadata": {
        "id": "QbBvwUjEfXy7"
      },
      "execution_count": null,
      "outputs": []
    }
  ]
}
